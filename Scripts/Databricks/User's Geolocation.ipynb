{
 "cells": [
  {
   "cell_type": "code",
   "execution_count": 0,
   "metadata": {
    "application/vnd.databricks.v1+cell": {
     "cellMetadata": {
      "byteLimit": 2048000,
      "rowLimit": 10000
     },
     "inputWidgets": {},
     "nuid": "5141680f-4751-4933-b981-c4d249250d55",
     "showTitle": false,
     "title": ""
    }
   },
   "outputs": [],
   "source": [
    "from pyspark.sql.functions import regexp_replace, length,expr,lit,coalesce,count,avg,max,col,sum\n"
   ]
  },
  {
   "cell_type": "code",
   "execution_count": 0,
   "metadata": {
    "application/vnd.databricks.v1+cell": {
     "cellMetadata": {
      "byteLimit": 2048000,
      "rowLimit": 10000
     },
     "inputWidgets": {},
     "nuid": "fa07563b-f5e2-478a-a6e0-2cc7a21aa151",
     "showTitle": false,
     "title": ""
    }
   },
   "outputs": [],
   "source": [
    "wp_path = '/mnt/deBDProject/BI_Users/WorldPopulation.json'\n",
    "world_population = spark.read.json(wp_path)\n",
    "world_population = world_population.withColumn('CountryUnderScore', regexp_replace('Country', ' ', '_'))\n",
    "# world_population.show(5)"
   ]
  },
  {
   "cell_type": "code",
   "execution_count": 0,
   "metadata": {
    "application/vnd.databricks.v1+cell": {
     "cellMetadata": {
      "byteLimit": 2048000,
      "rowLimit": 10000
     },
     "inputWidgets": {},
     "nuid": "91744309-b854-4e46-8be3-9626809dcfce",
     "showTitle": false,
     "title": ""
    }
   },
   "outputs": [],
   "source": [
    "\n",
    "users_path = '/mnt/deBDProject/ml_training_project/Users.csv'\n",
    "users = spark.read.csv(users_path,header=True)\n",
    "\n",
    "locations_cleaned = users.select(\"id\", \"displayname\",\"location\",\"reputation\",\"views\",\"upvotes\",\"downvotes\")\n",
    "locations_cleaned= locations_cleaned.withColumn(\"LocationCommaCount\" ,length(locations_cleaned[\"location\"]) - length(regexp_replace(locations_cleaned[\"location\"], \",\", \"\")))\n",
    "\n",
    "# locations_cleaned.show(10)\n"
   ]
  },
  {
   "cell_type": "code",
   "execution_count": 0,
   "metadata": {
    "application/vnd.databricks.v1+cell": {
     "cellMetadata": {
      "byteLimit": 2048000,
      "rowLimit": 10000
     },
     "inputWidgets": {},
     "nuid": "a20a85b9-85f5-43e7-8238-f370eab33611",
     "showTitle": false,
     "title": ""
    }
   },
   "outputs": [],
   "source": [
    "#Retrieve Countries from column and put in one list\n",
    "locationsOneWord = locations_cleaned[locations_cleaned[\"locationCommaCount\"]==0]\n",
    "locationsTwoWords = locations_cleaned[locations_cleaned[\"locationCommaCount\"]==1.0]\n",
    "locationsTwoWords = locationsTwoWords.withColumn(\"location\",expr(\"split(location,',')[1]\"))\n",
    "locationsThreeWords = locations_cleaned[locations_cleaned[\"locationCommaCount\"]==2.0]\n",
    "locationsThreeWords = locationsThreeWords.withColumn(\"location\",expr(\"split(location,',')[2]\"))\n",
    "locationsFourWords = locations_cleaned[locations_cleaned[\"locationCommaCount\"]==3.0]\n",
    "locationsFourWords = locationsFourWords.withColumn(\"location\",expr(\"split(location,',')[3]\"))\n",
    "locationsNA = locations_cleaned[locations_cleaned[\"locationCommaCount\"].isNull() ]\n",
    "locationsNA = locationsNA.withColumn(\"location\", lit(\"N/A\"))\n",
    "locations_Countries = locationsOneWord.union(locationsTwoWords)\\\n",
    "                        .union(locationsThreeWords)\\\n",
    "                        .union(locationsFourWords)\\\n",
    "                        .union(locationsNA)\n",
    "\n",
    "locations_Countries = locations_Countries.withColumnRenamed(\"location\",\"Country_Name\")\n"
   ]
  },
  {
   "cell_type": "code",
   "execution_count": 0,
   "metadata": {
    "application/vnd.databricks.v1+cell": {
     "cellMetadata": {
      "byteLimit": 2048000,
      "rowLimit": 10000
     },
     "inputWidgets": {},
     "nuid": "79af263e-87d4-4f0f-bd4a-33fe209965a1",
     "showTitle": false,
     "title": ""
    }
   },
   "outputs": [],
   "source": [
    "#Clean Up Records in the Location Column using external file that contains rules\n",
    "\n",
    "countries_to_replace_path = '/mnt/deBDProject/BI_Users/countries_to_rename.csv'\n",
    "countries_to_replace = spark.read.csv(countries_to_replace_path,header=True)\n",
    "\n",
    "for index, row in countries_to_replace.toPandas().iterrows():\n",
    "    locations_Countries =locations_Countries.withColumn(\"Country_Name\", regexp_replace('Country_Name',row[0], row[1]))\n"
   ]
  },
  {
   "cell_type": "code",
   "execution_count": 0,
   "metadata": {
    "application/vnd.databricks.v1+cell": {
     "cellMetadata": {
      "byteLimit": 2048000,
      "rowLimit": 10000
     },
     "inputWidgets": {},
     "nuid": "7089b554-98a1-436f-ba5d-c9c267c8e5b0",
     "showTitle": false,
     "title": ""
    }
   },
   "outputs": [],
   "source": [
    "locations_Countries = locations_Countries.withColumn(\"CountryUnderScore\", regexp_replace(\"Country_Name\",\" \",\"_\"))"
   ]
  },
  {
   "cell_type": "code",
   "execution_count": 0,
   "metadata": {
    "application/vnd.databricks.v1+cell": {
     "cellMetadata": {
      "byteLimit": 2048000,
      "rowLimit": 10000
     },
     "inputWidgets": {},
     "nuid": "3f0a52ec-2d6b-4f47-834e-46b571f5e03f",
     "showTitle": false,
     "title": ""
    }
   },
   "outputs": [
    {
     "output_type": "stream",
     "name": "stdout",
     "output_type": "stream",
     "text": [
      "+--------------+----------+----------+\n|  Country_Name|reputation|Population|\n+--------------+----------+----------+\n|           N/A|        21|         0|\n|           N/A|        16|         0|\n|United Kingdom|       774|  67736802|\n|           N/A|         1|         0|\n|           N/A|         1|         0|\n| United States|       360| 339996564|\n|           N/A|         1|         0|\n|           N/A|        21|         0|\n|           N/A|       384|         0|\n|           N/A|        13|         0|\n+--------------+----------+----------+\nonly showing top 10 rows\n\n"
     ]
    }
   ],
   "source": [
    "final_df = locations_Countries.join(world_population, locations_Countries[\"CountryUnderScore\"] == world_population[\"CountryUnderScore\"], \"left\").fillna({'Population': 0, 'Country': 'N/A'})\n",
    "\n",
    "final_df = final_df.select(final_df[\"Country\"].alias(\"Country_Name\"),final_df[\"Id\"],final_df[\"reputation\"], \"Population\")\n",
    "\n",
    "final_df.show(10)"
   ]
  },
  {
   "cell_type": "code",
   "execution_count": 0,
   "metadata": {
    "application/vnd.databricks.v1+cell": {
     "cellMetadata": {
      "byteLimit": 2048000,
      "rowLimit": 10000
     },
     "inputWidgets": {},
     "nuid": "05a708a8-7d24-449c-91ef-29ac445d631a",
     "showTitle": false,
     "title": ""
    }
   },
   "outputs": [],
   "source": [
    "\n",
    "grouped_df = final_df.groupBy(\"Country_Name\").agg(count(final_df.Country_Name).alias(\"User_Count\"),\\\n",
    "                                sum(final_df.reputation).alias(\"User_Reputation\"),\\\n",
    "                                max(final_df.Population).alias(\"Population\")\n",
    "                                )\n"
   ]
  },
  {
   "cell_type": "code",
   "execution_count": 0,
   "metadata": {
    "application/vnd.databricks.v1+cell": {
     "cellMetadata": {
      "byteLimit": 2048000,
      "rowLimit": 10000
     },
     "inputWidgets": {},
     "nuid": "bcc27b86-0360-4403-a181-0a52ae07a844",
     "showTitle": false,
     "title": ""
    }
   },
   "outputs": [
    {
     "output_type": "stream",
     "name": "stdout",
     "output_type": "stream",
     "text": [
      "+--------------------+----------+---------------+----------+\n|        Country_Name|User_Count|User_Reputation|Population|\n+--------------------+----------+---------------+----------+\n|         Afghanistan|        27|         5246.0|  42239854|\n|             Albania|        64|        50165.0|   2832439|\n|             Algeria|       133|        42612.0|  45606481|\n|             Andorra|        11|        55736.0|     80088|\n|              Angola|         8|         1703.0|  36684203|\n| Antigua and Barbuda|         1|           36.0|     94298|\n|           Argentina|      1087|       751519.0|  45773884|\n|             Armenia|       128|       159211.0|   2777971|\n|           Australia|      3136|      4376135.0|  26439112|\n|             Austria|      1126|      1270759.0|   8958961|\n|          Azerbaijan|        78|        17820.0|  10412652|\n|             Bahamas|         5|          127.0|    412624|\n|             Bahrain|        91|        38768.0|   1485510|\n|          Bangladesh|       672|       448929.0| 172954319|\n|            Barbados|        18|         1770.0|    281996|\n|             Belarus|       537|       373937.0|   9498238|\n|             Belgium|      2743|      2681059.0|  11686140|\n|              Belize|         5|          206.0|    410825|\n|               Benin|         3|           23.0|  13712828|\n|              Bhutan|         4|         1661.0|    787425|\n|             Bolivia|       108|        56741.0|  12388571|\n|Bosnia and Herzeg...|        62|        24759.0|   3210848|\n|            Botswana|        13|          490.0|   2675353|\n|              Brazil|      4247|      2293766.0| 216422446|\n|              Brunei|        13|         5647.0|    452524|\n|            Bulgaria|       661|       636454.0|   6687717|\n|        Burkina Faso|         4|          544.0|  23251485|\n|             Burundi|         1|            1.0|  13238559|\n|            Cambodia|       102|        37917.0|  16944826|\n|            Cameroon|        18|         4021.0|  28647293|\n|              Canada|      4252|      5252333.0|  38781292|\n|          Cape Verde|         4|          133.0|    598682|\n|               Chile|       439|       191028.0|  19629590|\n|               China|      4646|       793306.0|1425671352|\n|            Colombia|       463|       174923.0|  52085168|\n|          Costa Rica|       368|       216152.0|   5212173|\n|             Croatia|       446|       413024.0|   4008617|\n|                Cuba|        48|        20472.0|  11194449|\n|              Cyprus|       142|       101616.0|   1260138|\n|             Czechia|        32|         9299.0|  10495295|\n|            DR Congo|         1|          145.0| 102262809|\n|             Denmark|      2462|      2796589.0|   5910913|\n|            Dominica|         2|          135.0|     73040|\n|  Dominican Republic|       202|        88132.0|  11332973|\n|          East Timor|         2|            2.0|   1360596|\n|             Ecuador|       111|        18766.0|  18190484|\n|               Egypt|      1117|       409097.0| 112716599|\n|         El Salvador|       103|        61436.0|   6364943|\n|             Eritrea|         1|          896.0|   3748902|\n|             Estonia|       326|       275776.0|   1322766|\n|            Ethiopia|        50|         8602.0| 126527060|\n|                Fiji|        13|         6356.0|    936376|\n|             Finland|      1121|      1663701.0|   5545475|\n|              France|      4350|      5902202.0|  64756584|\n|               Gabon|         2|            2.0|   2436567|\n|             Georgia|       309|       162637.0|   3728282|\n|             Germany|      9029|    1.3553255E7|  83294633|\n|               Ghana|        91|        18694.0|  34121985|\n|              Greece|       888|       658440.0|  10341277|\n|             Grenada|         1|          538.0|    126184|\n|           Guatemala|       192|       626552.0|  18092026|\n|              Guinea|         2|            2.0|  14190612|\n|       Guinea-Bissau|         1|          605.0|   2150842|\n|              Guyana|         7|          512.0|    813834|\n|               Haiti|         6|         1633.0|  11724764|\n|            Honduras|        46|         7106.0|  10593798|\n|             Hungary|       778|       681371.0|   9604000|\n|             Iceland|       199|       147607.0|    375319|\n|               India|     17816|      9070812.0|1428627663|\n|           Indonesia|      1446|       279450.0| 277534123|\n|                Iran|      1405|       567645.0|  89172767|\n|                Iraq|        66|        15629.0|  45504560|\n|             Ireland|      1280|      1331847.0|   5056935|\n|              Israel|      2843|      5717078.0|   9174520|\n|               Italy|      2876|      2640570.0|  58870763|\n|         Ivory Coast|         4|          795.0|  28873034|\n|             Jamaica|        76|        41377.0|   2825544|\n|               Japan|       950|       832360.0| 123294513|\n|              Jordan|       230|        79501.0|  11337053|\n|          Kazakhstan|       103|        15162.0|  19606634|\n|               Kenya|       168|        44070.0|  55100587|\n|            Kiribati|         1|           38.0|    133515|\n|              Kosovo|        33|         8635.0|   1663595|\n|              Kuwait|       156|       145466.0|   4310108|\n|          Kyrgyzstan|        37|        27558.0|   6735348|\n|                Laos|         5|           59.0|   7633779|\n|              Latvia|       291|       183569.0|   1830212|\n|             Lebanon|       244|       191866.0|   5353930|\n|             Lesotho|         8|          395.0|   2330318|\n|               Libya|        17|         1333.0|   6888388|\n|       Liechtenstein|        10|         2813.0|     39585|\n|           Lithuania|       432|       299925.0|   2718352|\n|          Luxembourg|       156|       176249.0|    654768|\n|          Madagascar|        30|         3548.0|  30325732|\n|              Malawi|         3|            3.0|  20931751|\n|            Malaysia|      1004|       352376.0|  34308525|\n|            Maldives|        42|        14873.0|    523787|\n|                Mali|         1|           38.0|  23293699|\n|               Malta|       271|       232330.0|    535065|\n|    Marshall Islands|         2|          144.0|     41996|\n|          Mauritania|         4|         1020.0|   4862989|\n|           Mauritius|       117|        97927.0|   1300557|\n|              Mexico|      1314|       579449.0| 128455567|\n|          Micronesia|         1|           36.0|    115224|\n|             Moldova|       117|        91901.0|   3435931|\n|              Monaco|        12|         4854.0|     36298|\n|            Mongolia|        57|         8632.0|   3447157|\n|          Montenegro|        21|         6243.0|    626485|\n|             Morocco|       326|       111901.0|  37840044|\n|          Mozambique|        10|          535.0|  33897354|\n|             Myanmar|        85|        24120.0|  54577997|\n|                 N/A|   2315027|   7.25182071E8|         0|\n|             Namibia|        12|          817.0|   2604172|\n|               Nepal|       335|       292154.0|  30896590|\n|         Netherlands|      5135|      7552122.0|  17618299|\n|         New Zealand|      1357|      2162792.0|   5228100|\n|           Nicaragua|        40|        19973.0|   7046311|\n|               Niger|         1|            1.0|  27202843|\n|             Nigeria|       358|       100296.0| 223804632|\n|                Niue|         1|            1.0|      1935|\n|         North Korea|         4|          491.0|  26160822|\n|              Norway|      1401|      2087181.0|   5474360|\n|                Oman|        40|         7845.0|   4644384|\n|            Pakistan|      1573|       721037.0| 240485658|\n|           Palestine|       102|        27293.0|   5371230|\n|              Panama|        82|         9014.0|   4468087|\n|    Papua New Guinea|        13|         7987.0|  10329931|\n|            Paraguay|        61|        30812.0|   6861524|\n|                Peru|       163|       195050.0|  34352719|\n|         Philippines|      1681|       703989.0| 117337368|\n|              Poland|      3024|      2674250.0|  41026068|\n|            Portugal|      1479|       925561.0|  10247605|\n|               Qatar|        49|       103822.0|   2716391|\n|             Romania|      1048|       845733.0|  19892812|\n|              Russia|      3767|      2061490.0| 144444359|\n|              Rwanda|        10|         3831.0|  14094683|\n|         Saint Lucia|         1|            1.0|    180251|\n|Saint Vincent and...|         1|          418.0|    103699|\n|               Samoa|         2|          342.0|    225681|\n|          San Marino|         9|       182376.0|     33642|\n|        Saudi Arabia|       244|        66587.0|  36947025|\n|             Senegal|         8|         5846.0|  17763163|\n|              Serbia|       364|       176713.0|   7149077|\n|          Seychelles|         4|          158.0|    107660|\n|        Sierra Leone|         2|            2.0|   8791092|\n|           Singapore|      2443|      2938424.0|   6014723|\n|            Slovakia|       534|       450572.0|   5795199|\n|            Slovenia|       459|       525251.0|   2119675|\n|             Somalia|         4|           42.0|  18143379|\n|        South Africa|      1557|      1463930.0|  60414495|\n|         South Korea|       520|       154325.0|  51784059|\n|         South Sudan|         1|            1.0|  11088796|\n|               Spain|      2370|      1659864.0|  47519628|\n|           Sri Lanka|       960|       422562.0|  21893579|\n|               Sudan|        23|        12804.0|  48109006|\n|            Suriname|         5|          774.0|    623237|\n|              Sweden|      3493|      3912679.0|  10612086|\n|         Switzerland|      1964|      3499704.0|   8796669|\n|               Syria|        97|        55696.0|  23227014|\n|              Taiwan|       834|       386421.0|  23923277|\n|          Tajikistan|         9|        16018.0|  10143543|\n|            Tanzania|        34|         7451.0|  67438106|\n|            Thailand|       510|       234763.0|  71801279|\n|                Togo|         1|            1.0|   9053799|\n|               Tonga|         1|            1.0|    107773|\n| Trinidad and Tobago|        51|       211418.0|   1534937|\n|             Tunisia|       375|       137117.0|  12458223|\n|              Turkey|      1511|       579664.0|  85816199|\n|        Turkmenistan|         9|         1435.0|   6516100|\n|              Tuvalu|         1|          292.0|     11396|\n|              Uganda|        66|        17188.0|  48582334|\n|             Ukraine|      2689|      1622551.0|  36744634|\n|United Arab Emirates|       233|        91821.0|   9516871|\n|      United Kingdom|      9134|     1.819864E7|  67736802|\n|       United States|     15097|    2.8712708E7| 339996564|\n|             Uruguay|       208|       133039.0|   3423109|\n|          Uzbekistan|        49|        46486.0|  35163944|\n|             Vanuatu|         3|          849.0|    334506|\n|           Venezuela|       280|        61517.0|  28838499|\n|             Vietnam|      1132|       311936.0|  98858950|\n|               Yemen|        39|         5795.0|  34449825|\n|              Zambia|        16|          928.0|  20569738|\n|            Zimbabwe|        33|        11942.0|  16665409|\n+--------------------+----------+---------------+----------+\n\n"
     ]
    }
   ],
   "source": [
    "# grouped_df.show(200)"
   ]
  },
  {
   "cell_type": "code",
   "execution_count": 0,
   "metadata": {
    "application/vnd.databricks.v1+cell": {
     "cellMetadata": {
      "byteLimit": 2048000,
      "rowLimit": 10000
     },
     "inputWidgets": {},
     "nuid": "6b0f76b7-8187-486d-b374-188227bbb0a1",
     "showTitle": false,
     "title": ""
    }
   },
   "outputs": [],
   "source": [
    "\n",
    "grouped_df.write.mode(\"overwrite\")\\\n",
    "    .option(\"header\",True)\\\n",
    "    .csv('/mnt/deBDProject/BI_Users/UserGeolocation')"
   ]
  },
  {
   "cell_type": "code",
   "execution_count": 0,
   "metadata": {
    "application/vnd.databricks.v1+cell": {
     "cellMetadata": {
      "byteLimit": 2048000,
      "rowLimit": 10000
     },
     "inputWidgets": {},
     "nuid": "116c333d-7290-480e-ae23-099d0b858e1a",
     "showTitle": false,
     "title": ""
    }
   },
   "outputs": [
    {
     "output_type": "stream",
     "name": "stdout",
     "output_type": "stream",
     "text": [
      "+--------------+-----------------+------+--------------------+----------+-----+-------+---------+--------------+----------+-----------------+\n|  Country_Name|CountryUnderScore|    id|         displayname|reputation|views|upvotes|downvotes|       Country|Population|CountryUnderScore|\n+--------------+-----------------+------+--------------------+----------+-----+-------+---------+--------------+----------+-----------------+\n|         India|            India|518997|             Nishant|       407|   85|     26|        0|         India|1428627663|            India|\n|        Israel|           Israel|519002|                 Ron|      1070|  569|    181|        3|        Israel|   9174520|           Israel|\n|     Argentina|        Argentina|519036|              Emilio|         6|    7|      0|        0|     Argentina|  45773884|        Argentina|\n| United States|    United_States|519037|            Valdis R|      1504|   79|    129|        4| United States| 339996564|    United_States|\n|       Germany|          Germany|519060|            artViper|        36|   13|      0|        0|       Germany|  83294633|          Germany|\n|       Ireland|          Ireland|519064|        Colm Shannon|        98|   69|     17|        0|       Ireland|   5056935|          Ireland|\n|         Italy|            Italy|519079|           BeerBaron|       185|   69|     19|       20|         Italy|  58870763|            Italy|\n|         India|            India|519103|                Sree|        16|    8|      0|        0|         India|1428627663|            India|\n|United Kingdom|   United_Kingdom|519158|Luis Roquette Valdez|         1|   20|      0|        0|United Kingdom|  67736802|   United_Kingdom|\n|   Philippines|      Philippines|519164|              rommer|         1|    0|      0|        0|   Philippines| 117337368|      Philippines|\n|   Netherlands|      Netherlands|519210|            englebip|       360|   31|     49|        0|   Netherlands|  17618299|      Netherlands|\n|         Chile|            Chile|519216|               Lamak|     57648| 4740|   2003|      777|         Chile|  19629590|            Chile|\n|United Kingdom|   United_Kingdom|519219|             rivalee|         1|    1|      0|        0|United Kingdom|  67736802|   United_Kingdom|\n|       Belgium|          Belgium|519244|       Renaud Dumont|      1564|  391|     43|        1|       Belgium|  11686140|          Belgium|\n|        Canada|           Canada|519260|           CJ Garber|        31|    6|      0|        0|        Canada|  38781292|           Canada|\n+--------------+-----------------+------+--------------------+----------+-----+-------+---------+--------------+----------+-----------------+\nonly showing top 15 rows\n\n"
     ]
    }
   ],
   "source": [
    "from pyspark.sql import Window\n",
    "import pyspark.sql.functions as F\n",
    "\n",
    "detailed_df = locations_Countries.select(\"Country_Name\",\"CountryUnderScore\",\"id\",\"displayname\",\"reputation\",\"views\",\"upvotes\",\"downvotes\").join(world_population, locations_Countries[\"CountryUnderScore\"] == world_population[\"CountryUnderScore\"], \"left\").fillna({'Population': 0, 'Country': 'N/A'})\n",
    "\n",
    "detailed_non_null_df = detailed_df[detailed_df[\"Country\"] != 'N/A']\n",
    "\n",
    "# detailed_non_null_df.show(15)\n"
   ]
  },
  {
   "cell_type": "code",
   "execution_count": 0,
   "metadata": {
    "application/vnd.databricks.v1+cell": {
     "cellMetadata": {
      "byteLimit": 2048000,
      "rowLimit": 10000
     },
     "inputWidgets": {},
     "nuid": "bd168c6d-38df-485b-80a2-8c55258986d4",
     "showTitle": false,
     "title": ""
    }
   },
   "outputs": [
    {
     "output_type": "stream",
     "name": "stdout",
     "output_type": "stream",
     "text": [
      "+------------+-------+---------------+----------+-----+-------+---------+----+\n|Country_Name|     id|    displayname|reputation|views|upvotes|downvotes|rank|\n+------------+-------+---------------+----------+-----+-------+---------+----+\n| Afghanistan|2169355|  Mustafa Ehsan|      1969|  175|    173|        5|   1|\n| Afghanistan|2198400|        Fshamri|       565|   52|     24|        1|   2|\n| Afghanistan|3129780|Hanzallah Afgan|       546|  185|     87|       15|   3|\n| Afghanistan|2110828|  Ajmal Amirzad|       474|   64|     11|        8|   4|\n| Afghanistan|1746091|    ali shekari|       440|   97|    165|        4|   5|\n|     Albania| 645186|           Shef|     36150| 2505|   1391|      309|   1|\n|     Albania|2736039|       Ultimo_m|      2690|  385|   2265|       26|   2|\n|     Albania|2212128| Freeman Lambda|      2167|  230|    408|       32|   3|\n|     Albania|1973164|            TGO|      1819|  366|     65|        5|   4|\n|     Albania| 930943|           Hari|      1345|  305|    592|        9|   5|\n|     Algeria|1120221|      tarrsalah|      8681|  793|   1220|       33|   1|\n|     Algeria|2874856|      Raindrop7|      3249|  529|   1231|      726|   2|\n|     Algeria| 861487|    Abdelouahab|      3225|  405|   1297|        0|   3|\n|     Algeria|1237663|        Mouloud|      2747|   98|     70|        1|   4|\n|     Algeria|1770999|        Boubakr|      2453|  179|     84|        2|   5|\n|     Andorra|2015579| Richard Hodges|     53377| 2886|    573|       69|   1|\n|     Andorra| 205557|    Alex Kurkin|       839|   67|    150|        4|   2|\n|     Andorra|1205178|           mark|       751|   86|     49|        0|   3|\n|     Andorra|1262159|      appplemac|       307|   44|     82|        0|   4|\n|     Andorra| 131561|      Alexander|       301|   13|      0|        0|   5|\n+------------+-------+---------------+----------+-----+-------+---------+----+\nonly showing top 20 rows\n\n"
     ]
    }
   ],
   "source": [
    "detailed_partitioned_df = detailed_non_null_df.select(\"Country_Name\",\"id\",\"displayname\",\"reputation\",\"views\",\"upvotes\",\"downvotes\")\\\n",
    "    .withColumn('rank', F.dense_rank().over(Window.partitionBy(\"Country_Name\").orderBy(col('reputation').cast(\"int\").desc())))\\\n",
    "    .filter(F.col('rank')<=5)\\\n",
    "\n",
    "# detailed_partitioned_df.show(20)"
   ]
  },
  {
   "cell_type": "code",
   "execution_count": 0,
   "metadata": {
    "application/vnd.databricks.v1+cell": {
     "cellMetadata": {
      "byteLimit": 2048000,
      "rowLimit": 10000
     },
     "inputWidgets": {},
     "nuid": "7939d2d7-b66e-49f9-9b74-accba63865ce",
     "showTitle": false,
     "title": ""
    }
   },
   "outputs": [],
   "source": [
    "detailed_partitioned_df.write.mode(\"overwrite\")\\\n",
    "    .option(\"header\",True)\\\n",
    "    .csv('/mnt/deBDProject/BI_Users/TopUsersPerCountry')"
   ]
  }
 ],
 "metadata": {
  "application/vnd.databricks.v1+notebook": {
   "dashboards": [],
   "language": "python",
   "notebookMetadata": {
    "pythonIndentUnit": 4
   },
   "notebookName": "User's Geolocation",
   "widgets": {}
  }
 },
 "nbformat": 4,
 "nbformat_minor": 0
}
