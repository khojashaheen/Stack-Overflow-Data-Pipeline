{
 "cells": [
  {
   "cell_type": "code",
   "execution_count": 0,
   "metadata": {
    "application/vnd.databricks.v1+cell": {
     "cellMetadata": {
      "byteLimit": 2048000,
      "rowLimit": 10000
     },
     "inputWidgets": {},
     "nuid": "7ab4281b-a423-4c1e-84ee-6563fa1ce90b",
     "showTitle": false,
     "title": ""
    }
   },
   "outputs": [],
   "source": [
    "from pyspark.sql.functions import *\n",
    "from pyspark.sql.functions import col, regexp_replace, lower, trim\n",
    "from pyspark.ml import PipelineModel\n",
    "# Decoding the indexer\n",
    "from pyspark.ml.feature import StringIndexerModel, IndexToString\n",
    "import datetime"
   ]
  },
  {
   "cell_type": "code",
   "execution_count": 0,
   "metadata": {
    "application/vnd.databricks.v1+cell": {
     "cellMetadata": {
      "byteLimit": 2048000,
      "rowLimit": 10000
     },
     "inputWidgets": {},
     "nuid": "13ca9101-f7ac-41d1-b13c-d88821871265",
     "showTitle": false,
     "title": ""
    }
   },
   "outputs": [],
   "source": [
    "today_date = str(datetime.date.today())\n",
    "\n",
    "posts_file_location = \"/mnt/deBDProject/ml_training_project/Posts/\"+today_date+\"/*\"\n",
    "posts = spark.read.parquet(posts_file_location)\n",
    "ml_model = \"/mnt/deBDProject/modelRF\"\n",
    "stringindexer = \"/mnt/deBDProject/stringindexerRF\""
   ]
  },
  {
   "cell_type": "code",
   "execution_count": 0,
   "metadata": {
    "application/vnd.databricks.v1+cell": {
     "cellMetadata": {
      "byteLimit": 2048000,
      "rowLimit": 10000
     },
     "inputWidgets": {},
     "nuid": "5e573551-1992-4e7a-8130-a31399471767",
     "showTitle": false,
     "title": ""
    }
   },
   "outputs": [],
   "source": [
    "# User defined function\n",
    "def predictions_udf(df, ml_model, stringindexer):\n",
    "    # Filter out empty body text\n",
    "    df = df.filter(\"Body is not null\")\n",
    "\n",
    "    # Formatting the 'Body' and `Tag` columns for machine learning training\n",
    "    df = df.withColumn(\"Body\",regexp_replace(df.Body,\"<.*?>\",\"\"))\\\n",
    "        .withColumn(\"Tags\", split(trim(translate(col(\"Tags\"), \"<>\", \" \")), \" \")\n",
    "    )\n",
    "\n",
    "    # Making sure the naming of the columns are consistent with the model\n",
    "    df = df.select(col(\"Body\").alias(\"text\"), col(\"Tags\"), col(\"ViewCount\").alias(\"viewcount\"))\n",
    "\n",
    "    # Preprocessing of the feature column\n",
    "    cleaned = df.withColumn('text', regexp_replace('text', r\"http\\S+\", \"\")) \\\n",
    "                    .withColumn('text', regexp_replace('text', r\"[^a-zA-Z]\", \" \")) \\\n",
    "                    .withColumn('text', regexp_replace('text', r\"\\s{2,}\", \" \")) \\\n",
    "                    .withColumn('text', lower('text')) \\\n",
    "                    .withColumn('text', trim('text')) \n",
    "    \n",
    "\n",
    "    # Load in the saved pipeline model\n",
    "    model = PipelineModel.load(ml_model)\n",
    "\n",
    "    # Making the prediction\n",
    "    prediction = model.transform(cleaned)\n",
    "\n",
    "    predicted = prediction.select(col('text'), col('tags'),col('ViewCount'), col('prediction'))\n",
    "\n",
    "    # Load in the StringIndexer that was saved\n",
    "    indexer = StringIndexerModel.load(stringindexer)\n",
    "\n",
    "    # Initialize the IndexToString converter\n",
    "    i2s = IndexToString(inputCol = 'prediction', outputCol = 'decoded', labels = indexer.labels)\n",
    "    converted = i2s.transform(predicted)\n",
    "\n",
    "    # Display the important columns\n",
    "    return converted"
   ]
  },
  {
   "cell_type": "code",
   "execution_count": 0,
   "metadata": {
    "application/vnd.databricks.v1+cell": {
     "cellMetadata": {
      "byteLimit": 2048000,
      "rowLimit": 10000
     },
     "inputWidgets": {},
     "nuid": "6b5e20af-c9d7-4c5b-8db7-6355e15cc03a",
     "showTitle": false,
     "title": ""
    }
   },
   "outputs": [],
   "source": [
    "result = predictions_udf(posts,ml_model, stringindexer)"
   ]
  },
  {
   "cell_type": "code",
   "execution_count": 0,
   "metadata": {
    "application/vnd.databricks.v1+cell": {
     "cellMetadata": {
      "byteLimit": 2048000,
      "rowLimit": 10000
     },
     "inputWidgets": {},
     "nuid": "d61ee6c8-2f01-43f3-a3aa-620109236a95",
     "showTitle": false,
     "title": ""
    }
   },
   "outputs": [
    {
     "output_type": "execute_result",
     "data": {
      "text/html": [
       "<div>\n",
       "<style scoped>\n",
       "    .dataframe tbody tr th:only-of-type {\n",
       "        vertical-align: middle;\n",
       "    }\n",
       "\n",
       "    .dataframe tbody tr th {\n",
       "        vertical-align: top;\n",
       "    }\n",
       "\n",
       "    .dataframe thead th {\n",
       "        text-align: right;\n",
       "    }\n",
       "</style>\n",
       "<table border=\"1\" class=\"dataframe\">\n",
       "  <thead>\n",
       "    <tr style=\"text-align: right;\">\n",
       "      <th></th>\n",
       "      <th>text</th>\n",
       "      <th>tags</th>\n",
       "      <th>ViewCount</th>\n",
       "      <th>prediction</th>\n",
       "      <th>decoded</th>\n",
       "    </tr>\n",
       "  </thead>\n",
       "  <tbody>\n",
       "    <tr>\n",
       "      <th>0</th>\n",
       "      <td>take a look at camera programming topics for ios</td>\n",
       "      <td>[NULL]</td>\n",
       "      <td>0</td>\n",
       "      <td>0.0</td>\n",
       "      <td>c#</td>\n",
       "    </tr>\n",
       "    <tr>\n",
       "      <th>1</th>\n",
       "      <td>doc was developed using the interviews ui tool...</td>\n",
       "      <td>[NULL]</td>\n",
       "      <td>0</td>\n",
       "      <td>0.0</td>\n",
       "      <td>c#</td>\n",
       "    </tr>\n",
       "    <tr>\n",
       "      <th>2</th>\n",
       "      <td>for debugging purposes how do i echo the query...</td>\n",
       "      <td>[php, mysql, pdo]</td>\n",
       "      <td>472</td>\n",
       "      <td>4.0</td>\n",
       "      <td>php</td>\n",
       "    </tr>\n",
       "    <tr>\n",
       "      <th>3</th>\n",
       "      <td>there is also another project which may be wor...</td>\n",
       "      <td>[NULL]</td>\n",
       "      <td>0</td>\n",
       "      <td>0.0</td>\n",
       "      <td>c#</td>\n",
       "    </tr>\n",
       "    <tr>\n",
       "      <th>4</th>\n",
       "      <td>i ve built a function which will prepare sql s...</td>\n",
       "      <td>[php, mysql, pdo]</td>\n",
       "      <td>1146</td>\n",
       "      <td>4.0</td>\n",
       "      <td>php</td>\n",
       "    </tr>\n",
       "    <tr>\n",
       "      <th>5</th>\n",
       "      <td>the problem is that the databinding has not ye...</td>\n",
       "      <td>[NULL]</td>\n",
       "      <td>0</td>\n",
       "      <td>0.0</td>\n",
       "      <td>c#</td>\n",
       "    </tr>\n",
       "    <tr>\n",
       "      <th>6</th>\n",
       "      <td>i have changed the deployment provider in the ...</td>\n",
       "      <td>[clickonce, manifest]</td>\n",
       "      <td>314</td>\n",
       "      <td>0.0</td>\n",
       "      <td>c#</td>\n",
       "    </tr>\n",
       "    <tr>\n",
       "      <th>7</th>\n",
       "      <td>for example here are two ways to set an intege...</td>\n",
       "      <td>[c++, binary, decimal, hex]</td>\n",
       "      <td>1318</td>\n",
       "      <td>0.0</td>\n",
       "      <td>c#</td>\n",
       "    </tr>\n",
       "    <tr>\n",
       "      <th>8</th>\n",
       "      <td>while learning iphone programming every xcode ...</td>\n",
       "      <td>[objective-c, cocoa-touch, cocoa]</td>\n",
       "      <td>2267</td>\n",
       "      <td>0.0</td>\n",
       "      <td>c#</td>\n",
       "    </tr>\n",
       "    <tr>\n",
       "      <th>9</th>\n",
       "      <td>you may want to check nerddinner which is done...</td>\n",
       "      <td>[NULL]</td>\n",
       "      <td>0</td>\n",
       "      <td>0.0</td>\n",
       "      <td>c#</td>\n",
       "    </tr>\n",
       "    <tr>\n",
       "      <th>10</th>\n",
       "      <td>in objective c if i wanted to reverse the valu...</td>\n",
       "      <td>[objective-c, boolean]</td>\n",
       "      <td>4460</td>\n",
       "      <td>0.0</td>\n",
       "      <td>c#</td>\n",
       "    </tr>\n",
       "    <tr>\n",
       "      <th>11</th>\n",
       "      <td>i have a grails project works as a server it r...</td>\n",
       "      <td>[javascript, html, url, grails, client-server]</td>\n",
       "      <td>572</td>\n",
       "      <td>0.0</td>\n",
       "      <td>c#</td>\n",
       "    </tr>\n",
       "    <tr>\n",
       "      <th>12</th>\n",
       "      <td>how do i require that a password has a minimum...</td>\n",
       "      <td>[ruby-on-rails-3, activerecord]</td>\n",
       "      <td>2926</td>\n",
       "      <td>0.0</td>\n",
       "      <td>c#</td>\n",
       "    </tr>\n",
       "    <tr>\n",
       "      <th>13</th>\n",
       "      <td>i am sending my data trought i c using dma eve...</td>\n",
       "      <td>[microcontroller, i2c, stm32]</td>\n",
       "      <td>3231</td>\n",
       "      <td>0.0</td>\n",
       "      <td>c#</td>\n",
       "    </tr>\n",
       "    <tr>\n",
       "      <th>14</th>\n",
       "      <td>i work on an android app which gets informatio...</td>\n",
       "      <td>[java, android, proxy]</td>\n",
       "      <td>37</td>\n",
       "      <td>0.0</td>\n",
       "      <td>c#</td>\n",
       "    </tr>\n",
       "  </tbody>\n",
       "</table>\n",
       "</div>"
      ],
      "text/plain": [
       "                                                 text  ... decoded\n",
       "0    take a look at camera programming topics for ios  ...      c#\n",
       "1   doc was developed using the interviews ui tool...  ...      c#\n",
       "2   for debugging purposes how do i echo the query...  ...     php\n",
       "3   there is also another project which may be wor...  ...      c#\n",
       "4   i ve built a function which will prepare sql s...  ...     php\n",
       "5   the problem is that the databinding has not ye...  ...      c#\n",
       "6   i have changed the deployment provider in the ...  ...      c#\n",
       "7   for example here are two ways to set an intege...  ...      c#\n",
       "8   while learning iphone programming every xcode ...  ...      c#\n",
       "9   you may want to check nerddinner which is done...  ...      c#\n",
       "10  in objective c if i wanted to reverse the valu...  ...      c#\n",
       "11  i have a grails project works as a server it r...  ...      c#\n",
       "12  how do i require that a password has a minimum...  ...      c#\n",
       "13  i am sending my data trought i c using dma eve...  ...      c#\n",
       "14  i work on an android app which gets informatio...  ...      c#\n",
       "\n",
       "[15 rows x 5 columns]"
      ]
     },
     "execution_count": 7,
     "metadata": {},
     "output_type": "execute_result"
    }
   ],
   "source": [
    "# result.limit(15).toPandas()"
   ]
  },
  {
   "cell_type": "code",
   "execution_count": 0,
   "metadata": {
    "application/vnd.databricks.v1+cell": {
     "cellMetadata": {
      "byteLimit": 2048000,
      "rowLimit": 10000
     },
     "inputWidgets": {},
     "nuid": "9dac5960-5b04-4695-a4f1-dfb37b601dce",
     "showTitle": false,
     "title": ""
    }
   },
   "outputs": [],
   "source": [
    "topics = result.withColumnRenamed('decoded', 'topic').select('topic','prediction')"
   ]
  },
  {
   "cell_type": "code",
   "execution_count": 0,
   "metadata": {
    "application/vnd.databricks.v1+cell": {
     "cellMetadata": {
      "byteLimit": 2048000,
      "rowLimit": 10000
     },
     "inputWidgets": {},
     "nuid": "bc3a73fb-dcb4-440d-a76b-9cc48b176499",
     "showTitle": false,
     "title": ""
    }
   },
   "outputs": [
    {
     "output_type": "stream",
     "name": "stdout",
     "output_type": "stream",
     "text": [
      "+-----+----------+\n|topic|prediction|\n+-----+----------+\n|c#   |0.0       |\n|c#   |0.0       |\n|php  |4.0       |\n|c#   |0.0       |\n|php  |4.0       |\n|c#   |0.0       |\n|c#   |0.0       |\n|c#   |0.0       |\n|c#   |0.0       |\n|c#   |0.0       |\n|c#   |0.0       |\n|c#   |0.0       |\n|c#   |0.0       |\n|c#   |0.0       |\n|c#   |0.0       |\n+-----+----------+\nonly showing top 15 rows\n\n"
     ]
    }
   ],
   "source": [
    "# topics.show(15,truncate=False)"
   ]
  },
  {
   "cell_type": "code",
   "execution_count": 0,
   "metadata": {
    "application/vnd.databricks.v1+cell": {
     "cellMetadata": {
      "byteLimit": 2048000,
      "rowLimit": 10000
     },
     "inputWidgets": {},
     "nuid": "6bb11e17-d9f0-4c39-8c15-7ca737484bed",
     "showTitle": false,
     "title": ""
    }
   },
   "outputs": [
    {
     "output_type": "stream",
     "name": "stdout",
     "output_type": "stream",
     "text": [
      "+----------+----+\n|     topic| qty|\n+----------+----+\n|        c#|1953|\n|      java| 103|\n|       php|  42|\n|javascript|  33|\n|       sql|  26|\n+----------+----+\nonly showing top 5 rows\n\n"
     ]
    }
   ],
   "source": [
    "# Aggregate the topics and calculate the total qty of each topic\n",
    "topic_final = topics.groupBy(col(\"topic\")).agg(count('topic').alias('qty')).orderBy(desc('qty'))\n"
   ]
  },
  {
   "cell_type": "code",
   "execution_count": 0,
   "metadata": {
    "application/vnd.databricks.v1+cell": {
     "cellMetadata": {
      "byteLimit": 2048000,
      "rowLimit": 10000
     },
     "inputWidgets": {},
     "nuid": "98e5c3d7-7761-4534-92e4-da9fdaae6c8e",
     "showTitle": false,
     "title": ""
    }
   },
   "outputs": [
    {
     "output_type": "stream",
     "name": "stdout",
     "output_type": "stream",
     "text": [
      "+----------+----+------------+\n|     topic| qty|trainingDate|\n+----------+----+------------+\n|        c#|1953|  2023-12-06|\n|      java| 103|  2023-12-06|\n|       php|  42|  2023-12-06|\n|javascript|  33|  2023-12-06|\n|       sql|  26|  2023-12-06|\n+----------+----+------------+\nonly showing top 5 rows\n\n"
     ]
    }
   ],
   "source": [
    "topic_final = topic_final.withColumn(\"trainingDate\", lit(today_date))"
   ]
  },
  {
   "cell_type": "code",
   "execution_count": 0,
   "metadata": {
    "application/vnd.databricks.v1+cell": {
     "cellMetadata": {
      "byteLimit": 2048000,
      "rowLimit": 10000
     },
     "inputWidgets": {},
     "nuid": "56546971-b64f-463f-83bd-f39f350c6188",
     "showTitle": false,
     "title": ""
    }
   },
   "outputs": [],
   "source": [
    "# define this function\n",
    "\n",
    "def crt_sgl_file(result_path):\n",
    "        # write the result to a folder container several files\n",
    "        path = result_path.split(\".\")[0]\n",
    "        topic_final.write.option(\"delimiter\", \",\").option(\"header\", \"true\").mode(\"overwrite\").csv(path)\n",
    "\n",
    "        # list the folder, find the csv file \n",
    "        filenames = dbutils.fs.ls(path)\n",
    "        name = ''\n",
    "        for filename in filenames:\n",
    "            if filename.name.endswith('csv'):\n",
    "                org_name = filename.name\n",
    "\n",
    "        # copy the csv file to the path you want to save, in this example, we use  \"/mnt/deBDProject/BI/ml_result.csv\"\n",
    "        dbutils.fs.cp(path + '/'+ org_name, result_path)\n",
    "\n",
    "        # delete the folder\n",
    "        dbutils.fs.rm(path, True)"
   ]
  },
  {
   "cell_type": "code",
   "execution_count": 0,
   "metadata": {
    "application/vnd.databricks.v1+cell": {
     "cellMetadata": {
      "byteLimit": 2048000,
      "rowLimit": 10000
     },
     "inputWidgets": {},
     "nuid": "a632e277-0411-4172-9f99-e8f3291fbdd5",
     "showTitle": false,
     "title": ""
    }
   },
   "outputs": [],
   "source": [
    "# run the function\n",
    "result_path = \"/mnt/deBDProject/BI_RF/ml_result.csv\"\n",
    "\n",
    "crt_sgl_file(result_path)"
   ]
  }
 ],
 "metadata": {
  "application/vnd.databricks.v1+notebook": {
   "dashboards": [],
   "language": "python",
   "notebookMetadata": {
    "pythonIndentUnit": 4
   },
   "notebookName": "Project_Model_Deployment_RF",
   "widgets": {}
  }
 },
 "nbformat": 4,
 "nbformat_minor": 0
}
